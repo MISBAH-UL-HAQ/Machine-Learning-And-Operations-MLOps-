{
 "cells": [
  {
   "cell_type": "code",
   "execution_count": null,
   "metadata": {},
   "outputs": [],
   "source": [
    "load Mnist dataset\n",
    "import keras\n",
    "mnist = keras.datasets.fashion_mnist\n",
    "(X_train,y_train),(X_test,y_test) = mnist.load_data()"
   ]
  },
  {
   "cell_type": "code",
   "execution_count": null,
   "metadata": {},
   "outputs": [],
   "source": [
    "#training and testing dataset\n",
    "X_train = X_train/255.0\n",
    "X_test = X_test/255.0\n",
    "class_name =('Trouser','Top','Pullover','Dress','Coat','Sandal','Shirt','Sneaker')"
   ]
  },
  {
   "cell_type": "code",
   "execution_count": null,
   "metadata": {},
   "outputs": [],
   "source": [
    "#importing required libraries\n",
    "from keras.models import Sequential\n",
    "from keras.layers import Dense,Flatten\n",
    "from keras.optimizers import RMSprop\n",
    "from keras.layers import Conv2D\n",
    "from keras.layers import Maxpool2D"
   ]
  },
  {
   "cell_type": "code",
   "execution_count": null,
   "metadata": {},
   "outputs": [],
   "source": [
    "#training model\n",
    "def vadilate(fit_model,epoch):\n",
    "  test=fit_model.history\n",
    "  accuracy=float(accuracy)\n",
    "  f=open(\"accuracy.txt\",\"w+\")\n",
    "  f.write(str(accuracy))\n",
    "  f.close()\n",
    "  print(\"accuracy:\",accuracy,\"%\")\n",
    "  return accuracy\n",
    "  "
   ]
  },
  {
   "cell_type": "code",
   "execution_count": null,
   "metadata": {},
   "outputs": [],
   "source": [
    "#cnn model\n",
    "neurons=16\n",
    "accuracy=0\n",
    "epochs=1\n",
    "test=1\n",
    "flag=0\n",
    "X_train=X_train.reshape(60000,28,28,1)\n",
    "X_test=X_test.reshape(10000,28,28,1)\n",
    "while int(accuracy)<90:\n",
    "    if flag==1:\n",
    "       model=keras.backend.clear_session()\n",
    "       neurons=neurons+neurons\n",
    "       epochs=epochs+1\n",
    "       test=test+1\n",
    "       model=sequential()\n",
    "       model=train_model(neurons,model,epochs,test)\n",
    "       fit_model=model.fit(X_test,Y_train ,epochs=epochs)\n",
    "       accuracy=validate(fit_model,epochs)\n",
    "       flag=1"
   ]
  },
  {
   "cell_type": "code",
   "execution_count": null,
   "metadata": {},
   "outputs": [],
   "source": [
    "#sending mails\n",
    "print(\"sending mail....\")\n",
    "import smtplib\n",
    "s=smtplib.SMTP('smtp-gmail.com',587)\n",
    "s.starttls()\n",
    "s.login(\"abc@gmai.com\",\"password\")\n",
    "messagel=\"success\"\n",
    "s.sendmail(\"abc@gmail.com\",messagel)\n",
    "s.quit()\n",
    "print(\"mail send...\""
   ]
  }
 ],
 "metadata": {
  "kernelspec": {
   "display_name": "Python 3",
   "language": "python",
   "name": "python3"
  },
  "language_info": {
   "codemirror_mode": {
    "name": "ipython",
    "version": 3
   },
   "file_extension": ".py",
   "mimetype": "text/x-python",
   "name": "python",
   "nbconvert_exporter": "python",
   "pygments_lexer": "ipython3",
   "version": "3.7.6"
  }
 },
 "nbformat": 4,
 "nbformat_minor": 4
}
